{
 "cells": [
  {
   "cell_type": "markdown",
   "metadata": {},
   "source": [
    "<center><h1> - Tabular Playground Series - Sep 2022 - </h1></center>\n",
    "<b>Goal</b>: Predicting book sales during the year 2021 for 4 items from two competing stores located in six different countries.\n",
    "\n",
    "### ⬇ Libraries"
   ]
  },
  {
   "cell_type": "code",
   "execution_count": 20,
   "metadata": {},
   "outputs": [],
   "source": [
    "import os\n",
    "import pandas as pd\n",
    "import numpy as np\n",
    "import matplotlib.pyplot as plt\n",
    "import datetime"
   ]
  },
  {
   "cell_type": "markdown",
   "metadata": {},
   "source": [
    "💡 <b> Insights from data exploration </b>\n",
    "- Data after 2020 is intrinsically different from the years before. Therefore, I tend to not include it in the model.\n",
    "- Include time dependency as some sort of cosine or sine function is essential at least for ANN's, RNN's but less for CNN's\n",
    "- The country does not have any influence after 2020.\n",
    "- Sales in the two store differ only by a constant factor.\n",
    "\n",
    "\n",
    "<b> Things to test: </b>\n",
    "- Use only data from 2020 onward\n",
    "- Use only data from before\n",
    "- Mix data (But I don't think this will lead to any good results as distribution is totally different?)"
   ]
  },
  {
   "cell_type": "markdown",
   "metadata": {},
   "source": [
    "<b> Things to keep in mind </b>\n",
    "- Remove last day in Feb. of leap year"
   ]
  },
  {
   "cell_type": "markdown",
   "metadata": {},
   "source": [
    "### Folders"
   ]
  },
  {
   "cell_type": "code",
   "execution_count": 38,
   "metadata": {},
   "outputs": [],
   "source": [
    "PROJECT_DIR = os.path.join(\".\", \"..\")\n",
    "DATASET_DIR = os.path.join(PROJECT_DIR, \"dataset\")"
   ]
  },
  {
   "cell_type": "markdown",
   "metadata": {},
   "source": [
    "### Load dataset"
   ]
  },
  {
   "cell_type": "code",
   "execution_count": 39,
   "metadata": {},
   "outputs": [],
   "source": [
    "train_df = pd.read_csv(os.path.join(DATASET_DIR, \"train.csv\"))\n",
    "test_df = pd.read_csv(os.path.join(DATASET_DIR, \"test.csv\"))\n",
    "# Convert column types\n",
    "train_df['date'] = pd.to_datetime(train_df['date'])\n",
    "test_df['date'] = pd.to_datetime(test_df['date'])"
   ]
  },
  {
   "cell_type": "markdown",
   "metadata": {},
   "source": [
    "### Drop Leap year day"
   ]
  },
  {
   "cell_type": "code",
   "execution_count": 40,
   "metadata": {},
   "outputs": [
    {
     "name": "stdout",
     "output_type": "stream",
     "text": [
      "(70128, 6)\n",
      "(70080, 6)\n"
     ]
    }
   ],
   "source": [
    "print(train_df.shape)\n",
    "train_df = train_df[train_df.date != pd.Timestamp(\"2020-02-29\")]\n",
    "print(train_df.shape)"
   ]
  },
  {
   "cell_type": "code",
   "execution_count": 41,
   "metadata": {},
   "outputs": [
    {
     "data": {
      "text/html": [
       "<div>\n",
       "<style scoped>\n",
       "    .dataframe tbody tr th:only-of-type {\n",
       "        vertical-align: middle;\n",
       "    }\n",
       "\n",
       "    .dataframe tbody tr th {\n",
       "        vertical-align: top;\n",
       "    }\n",
       "\n",
       "    .dataframe thead th {\n",
       "        text-align: right;\n",
       "    }\n",
       "</style>\n",
       "<table border=\"1\" class=\"dataframe\">\n",
       "  <thead>\n",
       "    <tr style=\"text-align: right;\">\n",
       "      <th></th>\n",
       "      <th>row_id</th>\n",
       "      <th>date</th>\n",
       "      <th>country</th>\n",
       "      <th>store</th>\n",
       "      <th>product</th>\n",
       "      <th>num_sold</th>\n",
       "    </tr>\n",
       "  </thead>\n",
       "  <tbody>\n",
       "    <tr>\n",
       "      <th>0</th>\n",
       "      <td>0</td>\n",
       "      <td>2017-01-01</td>\n",
       "      <td>Belgium</td>\n",
       "      <td>KaggleMart</td>\n",
       "      <td>Kaggle Advanced Techniques</td>\n",
       "      <td>663</td>\n",
       "    </tr>\n",
       "    <tr>\n",
       "      <th>1</th>\n",
       "      <td>1</td>\n",
       "      <td>2017-01-01</td>\n",
       "      <td>Belgium</td>\n",
       "      <td>KaggleMart</td>\n",
       "      <td>Kaggle Getting Started</td>\n",
       "      <td>615</td>\n",
       "    </tr>\n",
       "    <tr>\n",
       "      <th>2</th>\n",
       "      <td>2</td>\n",
       "      <td>2017-01-01</td>\n",
       "      <td>Belgium</td>\n",
       "      <td>KaggleMart</td>\n",
       "      <td>Kaggle Recipe Book</td>\n",
       "      <td>480</td>\n",
       "    </tr>\n",
       "    <tr>\n",
       "      <th>3</th>\n",
       "      <td>3</td>\n",
       "      <td>2017-01-01</td>\n",
       "      <td>Belgium</td>\n",
       "      <td>KaggleMart</td>\n",
       "      <td>Kaggle for Kids: One Smart Goose</td>\n",
       "      <td>710</td>\n",
       "    </tr>\n",
       "    <tr>\n",
       "      <th>4</th>\n",
       "      <td>4</td>\n",
       "      <td>2017-01-01</td>\n",
       "      <td>Belgium</td>\n",
       "      <td>KaggleRama</td>\n",
       "      <td>Kaggle Advanced Techniques</td>\n",
       "      <td>240</td>\n",
       "    </tr>\n",
       "  </tbody>\n",
       "</table>\n",
       "</div>"
      ],
      "text/plain": [
       "   row_id       date  country       store                           product  \\\n",
       "0       0 2017-01-01  Belgium  KaggleMart        Kaggle Advanced Techniques   \n",
       "1       1 2017-01-01  Belgium  KaggleMart            Kaggle Getting Started   \n",
       "2       2 2017-01-01  Belgium  KaggleMart                Kaggle Recipe Book   \n",
       "3       3 2017-01-01  Belgium  KaggleMart  Kaggle for Kids: One Smart Goose   \n",
       "4       4 2017-01-01  Belgium  KaggleRama        Kaggle Advanced Techniques   \n",
       "\n",
       "   num_sold  \n",
       "0       663  \n",
       "1       615  \n",
       "2       480  \n",
       "3       710  \n",
       "4       240  "
      ]
     },
     "execution_count": 41,
     "metadata": {},
     "output_type": "execute_result"
    }
   ],
   "source": [
    "train_df.head()"
   ]
  },
  {
   "cell_type": "code",
   "execution_count": 42,
   "metadata": {},
   "outputs": [
    {
     "data": {
      "text/html": [
       "<div>\n",
       "<style scoped>\n",
       "    .dataframe tbody tr th:only-of-type {\n",
       "        vertical-align: middle;\n",
       "    }\n",
       "\n",
       "    .dataframe tbody tr th {\n",
       "        vertical-align: top;\n",
       "    }\n",
       "\n",
       "    .dataframe thead th {\n",
       "        text-align: right;\n",
       "    }\n",
       "</style>\n",
       "<table border=\"1\" class=\"dataframe\">\n",
       "  <thead>\n",
       "    <tr style=\"text-align: right;\">\n",
       "      <th></th>\n",
       "      <th>row_id</th>\n",
       "      <th>date</th>\n",
       "      <th>country</th>\n",
       "      <th>store</th>\n",
       "      <th>product</th>\n",
       "    </tr>\n",
       "  </thead>\n",
       "  <tbody>\n",
       "    <tr>\n",
       "      <th>0</th>\n",
       "      <td>70128</td>\n",
       "      <td>2021-01-01</td>\n",
       "      <td>Belgium</td>\n",
       "      <td>KaggleMart</td>\n",
       "      <td>Kaggle Advanced Techniques</td>\n",
       "    </tr>\n",
       "    <tr>\n",
       "      <th>1</th>\n",
       "      <td>70129</td>\n",
       "      <td>2021-01-01</td>\n",
       "      <td>Belgium</td>\n",
       "      <td>KaggleMart</td>\n",
       "      <td>Kaggle Getting Started</td>\n",
       "    </tr>\n",
       "    <tr>\n",
       "      <th>2</th>\n",
       "      <td>70130</td>\n",
       "      <td>2021-01-01</td>\n",
       "      <td>Belgium</td>\n",
       "      <td>KaggleMart</td>\n",
       "      <td>Kaggle Recipe Book</td>\n",
       "    </tr>\n",
       "    <tr>\n",
       "      <th>3</th>\n",
       "      <td>70131</td>\n",
       "      <td>2021-01-01</td>\n",
       "      <td>Belgium</td>\n",
       "      <td>KaggleMart</td>\n",
       "      <td>Kaggle for Kids: One Smart Goose</td>\n",
       "    </tr>\n",
       "    <tr>\n",
       "      <th>4</th>\n",
       "      <td>70132</td>\n",
       "      <td>2021-01-01</td>\n",
       "      <td>Belgium</td>\n",
       "      <td>KaggleRama</td>\n",
       "      <td>Kaggle Advanced Techniques</td>\n",
       "    </tr>\n",
       "  </tbody>\n",
       "</table>\n",
       "</div>"
      ],
      "text/plain": [
       "   row_id       date  country       store                           product\n",
       "0   70128 2021-01-01  Belgium  KaggleMart        Kaggle Advanced Techniques\n",
       "1   70129 2021-01-01  Belgium  KaggleMart            Kaggle Getting Started\n",
       "2   70130 2021-01-01  Belgium  KaggleMart                Kaggle Recipe Book\n",
       "3   70131 2021-01-01  Belgium  KaggleMart  Kaggle for Kids: One Smart Goose\n",
       "4   70132 2021-01-01  Belgium  KaggleRama        Kaggle Advanced Techniques"
      ]
     },
     "execution_count": 42,
     "metadata": {},
     "output_type": "execute_result"
    }
   ],
   "source": [
    "test_df.head()"
   ]
  },
  {
   "cell_type": "markdown",
   "metadata": {},
   "source": [
    "### Add weekly, monthly and yearly seasonality information"
   ]
  },
  {
   "cell_type": "code",
   "execution_count": 49,
   "metadata": {},
   "outputs": [],
   "source": [
    "# Amount of rows we have per day\n",
    "ROWS_PER_DAY  = 4 * 2 * 6"
   ]
  },
  {
   "cell_type": "code",
   "execution_count": 50,
   "metadata": {},
   "outputs": [],
   "source": [
    "# Day ids for all training data -> Error due to leap year\n",
    "day_ids = train_df.row_id // ROWS_PER_DAY\n",
    "# Extract day ids for the first year only!\n",
    "day_ids = day_ids[:ROWS_PER_DAY * 365]"
   ]
  },
  {
   "cell_type": "code",
   "execution_count": 61,
   "metadata": {},
   "outputs": [],
   "source": [
    "weeks = np.sin(day_ids * (2 * np.pi * 1/7)) \n",
    "years = np.sin(day_ids * (2 * np.pi * 1/364)) "
   ]
  },
  {
   "cell_type": "code",
   "execution_count": 62,
   "metadata": {},
   "outputs": [
    {
     "data": {
      "text/plain": [
       "Text(0.5, 1.0, 'Time of day signal')"
      ]
     },
     "execution_count": 62,
     "metadata": {},
     "output_type": "execute_result"
    },
    {
     "data": {
      "image/png": "[encoded data removed]",
      "text/plain": [
       "<Figure size 640x480 with 1 Axes>"
      ]
     },
     "metadata": {},
     "output_type": "display_data"
    }
   ],
   "source": [
    "plt.plot(np.array(test))\n",
    "plt.xlabel('Weeks')\n",
    "plt.title('Time of day signal')"
   ]
  },
  {
   "cell_type": "code",
   "execution_count": 53,
   "metadata": {},
   "outputs": [
    {
     "name": "stdout",
     "output_type": "stream",
     "text": [
      "0        0.0\n",
      "1        0.0\n",
      "2        0.0\n",
      "3        0.0\n",
      "4        0.0\n",
      "        ... \n",
      "17515    1.0\n",
      "17516    1.0\n",
      "17517    1.0\n",
      "17518    1.0\n",
      "17519    1.0\n",
      "Name: row_id, Length: 17520, dtype: float64\n"
     ]
    }
   ],
   "source": [
    "print(day_ids / 364)"
   ]
  },
  {
   "cell_type": "code",
   "execution_count": 23,
   "metadata": {},
   "outputs": [],
   "source": [
    "date_time = pd.to_datetime(train_df_2020.pop('date'), format='%Y-%m-%d')"
   ]
  },
  {
   "cell_type": "code",
   "execution_count": 24,
   "metadata": {},
   "outputs": [],
   "source": [
    "timestamp_s = date_time.map(pd.Timestamp.timestamp)"
   ]
  },
  {
   "cell_type": "code",
   "execution_count": 25,
   "metadata": {},
   "outputs": [],
   "source": [
    "day = 24*60*60\n",
    "year = (365.2425)*day\n",
    "\n",
    "train_df_2020['Day sin'] = np.sin(timestamp_s * (2 * np.pi / day))\n",
    "train_df_2020['Day cos'] = np.cos(timestamp_s * (2 * np.pi / day))\n",
    "train_df_2020['Year sin'] = np.sin(timestamp_s * (2 * np.pi / year))\n",
    "train_df_2020['Year cos'] = np.cos(timestamp_s * (2 * np.pi / year))\n",
    "\n",
    "test_df_2020['Day sin'] = np.sin(timestamp_s * (2 * np.pi / day))\n",
    "test_df_2020['Day cos'] = np.cos(timestamp_s * (2 * np.pi / day))\n",
    "test_df_2020['Year sin'] = np.sin(timestamp_s * (2 * np.pi / year))\n",
    "test_df_2020['Year cos'] = np.cos(timestamp_s * (2 * np.pi / year))"
   ]
  },
  {
   "cell_type": "code",
   "execution_count": 37,
   "metadata": {},
   "outputs": [
    {
     "data": {
      "text/html": [
       "<div>\n",
       "<style scoped>\n",
       "    .dataframe tbody tr th:only-of-type {\n",
       "        vertical-align: middle;\n",
       "    }\n",
       "\n",
       "    .dataframe tbody tr th {\n",
       "        vertical-align: top;\n",
       "    }\n",
       "\n",
       "    .dataframe thead th {\n",
       "        text-align: right;\n",
       "    }\n",
       "</style>\n",
       "<table border=\"1\" class=\"dataframe\">\n",
       "  <thead>\n",
       "    <tr style=\"text-align: right;\">\n",
       "      <th></th>\n",
       "      <th>row_id</th>\n",
       "      <th>country</th>\n",
       "      <th>store</th>\n",
       "      <th>product</th>\n",
       "      <th>num_sold</th>\n",
       "      <th>Day sin</th>\n",
       "      <th>Day cos</th>\n",
       "      <th>Year sin</th>\n",
       "      <th>Year cos</th>\n",
       "    </tr>\n",
       "  </thead>\n",
       "  <tbody>\n",
       "    <tr>\n",
       "      <th>52608</th>\n",
       "      <td>52608</td>\n",
       "      <td>Belgium</td>\n",
       "      <td>KaggleMart</td>\n",
       "      <td>Kaggle Advanced Techniques</td>\n",
       "      <td>452</td>\n",
       "      <td>-3.371804e-12</td>\n",
       "      <td>1.0</td>\n",
       "      <td>0.015052</td>\n",
       "      <td>0.999887</td>\n",
       "    </tr>\n",
       "    <tr>\n",
       "      <th>52656</th>\n",
       "      <td>52656</td>\n",
       "      <td>Belgium</td>\n",
       "      <td>KaggleMart</td>\n",
       "      <td>Kaggle Advanced Techniques</td>\n",
       "      <td>452</td>\n",
       "      <td>9.267350e-13</td>\n",
       "      <td>1.0</td>\n",
       "      <td>0.032250</td>\n",
       "      <td>0.999480</td>\n",
       "    </tr>\n",
       "    <tr>\n",
       "      <th>52704</th>\n",
       "      <td>52704</td>\n",
       "      <td>Belgium</td>\n",
       "      <td>KaggleMart</td>\n",
       "      <td>Kaggle Advanced Techniques</td>\n",
       "      <td>517</td>\n",
       "      <td>-9.326642e-12</td>\n",
       "      <td>1.0</td>\n",
       "      <td>0.049438</td>\n",
       "      <td>0.998777</td>\n",
       "    </tr>\n",
       "    <tr>\n",
       "      <th>52752</th>\n",
       "      <td>52752</td>\n",
       "      <td>Belgium</td>\n",
       "      <td>KaggleMart</td>\n",
       "      <td>Kaggle Advanced Techniques</td>\n",
       "      <td>503</td>\n",
       "      <td>-5.028103e-12</td>\n",
       "      <td>1.0</td>\n",
       "      <td>0.066611</td>\n",
       "      <td>0.997779</td>\n",
       "    </tr>\n",
       "    <tr>\n",
       "      <th>52800</th>\n",
       "      <td>52800</td>\n",
       "      <td>Belgium</td>\n",
       "      <td>KaggleMart</td>\n",
       "      <td>Kaggle Advanced Techniques</td>\n",
       "      <td>445</td>\n",
       "      <td>-7.295644e-13</td>\n",
       "      <td>1.0</td>\n",
       "      <td>0.083765</td>\n",
       "      <td>0.996486</td>\n",
       "    </tr>\n",
       "    <tr>\n",
       "      <th>...</th>\n",
       "      <td>...</td>\n",
       "      <td>...</td>\n",
       "      <td>...</td>\n",
       "      <td>...</td>\n",
       "      <td>...</td>\n",
       "      <td>...</td>\n",
       "      <td>...</td>\n",
       "      <td>...</td>\n",
       "      <td>...</td>\n",
       "    </tr>\n",
       "    <tr>\n",
       "      <th>62016</th>\n",
       "      <td>62016</td>\n",
       "      <td>Belgium</td>\n",
       "      <td>KaggleMart</td>\n",
       "      <td>Kaggle Advanced Techniques</td>\n",
       "      <td>311</td>\n",
       "      <td>-4.869317e-12</td>\n",
       "      <td>1.0</td>\n",
       "      <td>-0.242754</td>\n",
       "      <td>-0.970088</td>\n",
       "    </tr>\n",
       "    <tr>\n",
       "      <th>62064</th>\n",
       "      <td>62064</td>\n",
       "      <td>Belgium</td>\n",
       "      <td>KaggleMart</td>\n",
       "      <td>Kaggle Advanced Techniques</td>\n",
       "      <td>370</td>\n",
       "      <td>-5.707784e-13</td>\n",
       "      <td>1.0</td>\n",
       "      <td>-0.259406</td>\n",
       "      <td>-0.965768</td>\n",
       "    </tr>\n",
       "    <tr>\n",
       "      <th>62112</th>\n",
       "      <td>62112</td>\n",
       "      <td>Belgium</td>\n",
       "      <td>KaggleMart</td>\n",
       "      <td>Kaggle Advanced Techniques</td>\n",
       "      <td>390</td>\n",
       "      <td>-1.082415e-11</td>\n",
       "      <td>1.0</td>\n",
       "      <td>-0.275980</td>\n",
       "      <td>-0.961163</td>\n",
       "    </tr>\n",
       "    <tr>\n",
       "      <th>62160</th>\n",
       "      <td>62160</td>\n",
       "      <td>Belgium</td>\n",
       "      <td>KaggleMart</td>\n",
       "      <td>Kaggle Advanced Techniques</td>\n",
       "      <td>409</td>\n",
       "      <td>-6.525616e-12</td>\n",
       "      <td>1.0</td>\n",
       "      <td>-0.292473</td>\n",
       "      <td>-0.956274</td>\n",
       "    </tr>\n",
       "    <tr>\n",
       "      <th>62208</th>\n",
       "      <td>62208</td>\n",
       "      <td>Belgium</td>\n",
       "      <td>KaggleMart</td>\n",
       "      <td>Kaggle Advanced Techniques</td>\n",
       "      <td>316</td>\n",
       "      <td>-2.227078e-12</td>\n",
       "      <td>1.0</td>\n",
       "      <td>-0.308880</td>\n",
       "      <td>-0.951101</td>\n",
       "    </tr>\n",
       "  </tbody>\n",
       "</table>\n",
       "<p>200 rows × 9 columns</p>\n",
       "</div>"
      ],
      "text/plain": [
       "       row_id  country       store                     product  num_sold  \\\n",
       "52608   52608  Belgium  KaggleMart  Kaggle Advanced Techniques       452   \n",
       "52656   52656  Belgium  KaggleMart  Kaggle Advanced Techniques       452   \n",
       "52704   52704  Belgium  KaggleMart  Kaggle Advanced Techniques       517   \n",
       "52752   52752  Belgium  KaggleMart  Kaggle Advanced Techniques       503   \n",
       "52800   52800  Belgium  KaggleMart  Kaggle Advanced Techniques       445   \n",
       "...       ...      ...         ...                         ...       ...   \n",
       "62016   62016  Belgium  KaggleMart  Kaggle Advanced Techniques       311   \n",
       "62064   62064  Belgium  KaggleMart  Kaggle Advanced Techniques       370   \n",
       "62112   62112  Belgium  KaggleMart  Kaggle Advanced Techniques       390   \n",
       "62160   62160  Belgium  KaggleMart  Kaggle Advanced Techniques       409   \n",
       "62208   62208  Belgium  KaggleMart  Kaggle Advanced Techniques       316   \n",
       "\n",
       "            Day sin  Day cos  Year sin  Year cos  \n",
       "52608 -3.371804e-12      1.0  0.015052  0.999887  \n",
       "52656  9.267350e-13      1.0  0.032250  0.999480  \n",
       "52704 -9.326642e-12      1.0  0.049438  0.998777  \n",
       "52752 -5.028103e-12      1.0  0.066611  0.997779  \n",
       "52800 -7.295644e-13      1.0  0.083765  0.996486  \n",
       "...             ...      ...       ...       ...  \n",
       "62016 -4.869317e-12      1.0 -0.242754 -0.970088  \n",
       "62064 -5.707784e-13      1.0 -0.259406 -0.965768  \n",
       "62112 -1.082415e-11      1.0 -0.275980 -0.961163  \n",
       "62160 -6.525616e-12      1.0 -0.292473 -0.956274  \n",
       "62208 -2.227078e-12      1.0 -0.308880 -0.951101  \n",
       "\n",
       "[200 rows x 9 columns]"
      ]
     },
     "execution_count": 37,
     "metadata": {},
     "output_type": "execute_result"
    }
   ],
   "source": [
    "train_df_2020[(train_df_2020['product'] == 'Kaggle Advanced Techniques') & (train_df_2020['store'] == 'KaggleMart') & (train_df_2020['country'] == 'Belgium')].head(200)"
   ]
  },
  {
   "cell_type": "code",
   "execution_count": 35,
   "metadata": {},
   "outputs": [
    {
     "data": {
      "text/plain": [
       "Text(0.5, 1.0, 'Time of day signal')"
      ]
     },
     "execution_count": 35,
     "metadata": {},
     "output_type": "execute_result"
    },
    {
     "data": {
      "image/png": "[encoded data removed]",
      "text/plain": [
       "<Figure size 640x480 with 1 Axes>"
      ]
     },
     "metadata": {},
     "output_type": "display_data"
    }
   ],
   "source": [
    "\n",
    "plt.plot(np.array(train_df_2020[(train_df_2020['product'] == 'Kaggle Advanced Techniques') & (train_df_2020['store'] == 'KaggleMart') & (train_df_2020['country'] == 'Belgium')]['Day sin'])[:25])\n",
    "plt.plot(np.array(train_df_2020[(train_df_2020['product'] == 'Kaggle Advanced Techniques') & (train_df_2020['store'] == 'KaggleMart') & (train_df_2020['country'] == 'Belgium')]['Day cos'])[:25])\n",
    "plt.xlabel('Time [h]')\n",
    "plt.title('Time of day signal')"
   ]
  },
  {
   "cell_type": "code",
   "execution_count": null,
   "metadata": {},
   "outputs": [],
   "source": [
    "train_df_2020 = train_df[train_df[\"date\"] > pd.Timestamp(\"2020-01-01\")].copy(deep=True)\n",
    "test_df_2020 = test_df[test_df[\"date\"] > pd.Timestamp(\"2020-01-01\")].copy(deep=True)"
   ]
  }
 ],
 "metadata": {
  "kernelspec": {
   "display_name": "Python 3.9.0 ('venv': venv)",
   "language": "python",
   "name": "python3"
  },
  "language_info": {
   "codemirror_mode": {
    "name": "ipython",
    "version": 3
   },
   "file_extension": ".py",
   "mimetype": "text/x-python",
   "name": "python",
   "nbconvert_exporter": "python",
   "pygments_lexer": "ipython3",
   "version": "3.9.0"
  },
  "orig_nbformat": 4,
  "vscode": {
   "interpreter": {
    "hash": "a554aad27cce9ba649bbacc0330c7d9daa40bab752293416bb8fb072f7557b4b"
   }
  }
 },
 "nbformat": 4,
 "nbformat_minor": 2
}
